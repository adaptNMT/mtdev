{
  "nbformat": 4,
  "nbformat_minor": 0,
  "metadata": {
    "colab": {
      "provenance": [],
      "gpuType": "T4"
    },
    "kernelspec": {
      "name": "python3",
      "display_name": "Python 3"
    },
    "language_info": {
      "name": "python"
    },
    "accelerator": "GPU"
  },
  "cells": [
    {
      "cell_type": "code",
      "execution_count": null,
      "metadata": {
        "id": "-Fl3iNDtqRXb"
      },
      "outputs": [],
      "source": [
        "from google.colab import drive\n",
        "drive.mount('/content/drive')"
      ]
    },
    {
      "cell_type": "code",
      "source": [
        "# use magic command ***\n",
        "%cd /content/drive/MyDrive"
      ],
      "metadata": {
        "id": "pI5A6doRQA2w"
      },
      "execution_count": null,
      "outputs": []
    },
    {
      "cell_type": "code",
      "source": [
        "!wget https://github.com/adaptNMT/mtdev/raw/main/mtdev.zip"
      ],
      "metadata": {
        "id": "6MaU4atCIoFz"
      },
      "execution_count": null,
      "outputs": []
    },
    {
      "cell_type": "code",
      "source": [
        "!unzip mtdev.zip"
      ],
      "metadata": {
        "id": "dU0d1Q2vQx5C"
      },
      "execution_count": null,
      "outputs": []
    },
    {
      "cell_type": "code",
      "source": [
        "# Display GPU details provided by Google\n",
        "gpu_info = !nvidia-smi\n",
        "print(gpu_info)\n",
        "\n",
        "# Check if version of python >= 3.8\n",
        "!python --version\n",
        "\n",
        "# Check if Pytorch > 2.0 is installed\n",
        "!apt list | grep torch"
      ],
      "metadata": {
        "id": "7xCDZlAEwNWX"
      },
      "execution_count": null,
      "outputs": []
    },
    {
      "cell_type": "code",
      "source": [
        "!pip install OpenNMT-py"
      ],
      "metadata": {
        "id": "QIi2Onm6_0zh"
      },
      "execution_count": null,
      "outputs": []
    },
    {
      "cell_type": "code",
      "source": [
        "%cd mtdev/\n",
        "!onmt_build_vocab -config data/rnn.yaml -n_sample=-1"
      ],
      "metadata": {
        "id": "z6n9NJqAAKZ8"
      },
      "execution_count": null,
      "outputs": []
    },
    {
      "cell_type": "code",
      "source": [
        "!onmt_train -config data/rnn.yaml"
      ],
      "metadata": {
        "id": "ELicZIgb_0mP"
      },
      "execution_count": null,
      "outputs": []
    }
  ]
}