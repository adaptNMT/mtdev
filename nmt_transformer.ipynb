{
  "nbformat": 4,
  "nbformat_minor": 0,
  "metadata": {
    "colab": {
      "provenance": [],
      "gpuType": "T4"
    },
    "kernelspec": {
      "name": "python3",
      "display_name": "Python 3"
    },
    "language_info": {
      "name": "python"
    },
    "accelerator": "GPU"
  },
  "cells": [
    {
      "cell_type": "code",
      "execution_count": 1,
      "metadata": {
        "id": "-Fl3iNDtqRXb",
        "colab": {
          "base_uri": "https://localhost:8080/"
        },
        "outputId": "dcf343d9-3701-445b-9980-e39e86d560ce"
      },
      "outputs": [
        {
          "output_type": "stream",
          "name": "stdout",
          "text": [
            "Mounted at /content/drive\n"
          ]
        }
      ],
      "source": [
        "from google.colab import drive\n",
        "drive.mount('/content/drive')"
      ]
    },
    {
      "cell_type": "code",
      "source": [
        "%cd /content/drive/MyDrive"
      ],
      "metadata": {
        "id": "pI5A6doRQA2w"
      },
      "execution_count": null,
      "outputs": []
    },
    {
      "cell_type": "code",
      "source": [
        "!wget https://github.com/adaptNMT/mtdev/raw/main/mtdev.zip"
      ],
      "metadata": {
        "id": "6MaU4atCIoFz"
      },
      "execution_count": null,
      "outputs": []
    },
    {
      "cell_type": "code",
      "source": [
        "!unzip mtdev.zip"
      ],
      "metadata": {
        "id": "dU0d1Q2vQx5C"
      },
      "execution_count": null,
      "outputs": []
    },
    {
      "cell_type": "code",
      "source": [
        "# Display GPU details provided by Google\n",
        "gpu_info = !nvidia-smi\n",
        "print(gpu_info)\n",
        "# Check if version of python >= 3.8\n",
        "!python --version\n",
        "# Check if Pytorch > 2.0 is installed\n",
        "!apt list | grep torch"
      ],
      "metadata": {
        "id": "7xCDZlAEwNWX"
      },
      "execution_count": null,
      "outputs": []
    },
    {
      "cell_type": "code",
      "source": [
        "%cd mtdev/data\n",
        "!cat src-train.txt tgt-train.txt> train.txt"
      ],
      "metadata": {
        "id": "_Np9h8qirhlv"
      },
      "execution_count": null,
      "outputs": []
    },
    {
      "cell_type": "code",
      "source": [
        "%cd data"
      ],
      "metadata": {
        "id": "JdWOxDwJvJxp"
      },
      "execution_count": null,
      "outputs": []
    },
    {
      "cell_type": "code",
      "source": [
        "import sentencepiece as spm\n",
        "spm.SentencePieceTrainer.train('--input=train.txt --model_prefix=spm \\\n",
        "--vocab_size=32000 --character_coverage=1.0 --model_type=bpe')"
      ],
      "metadata": {
        "id": "6p2U_mkoufcz"
      },
      "execution_count": 13,
      "outputs": []
    },
    {
      "cell_type": "code",
      "source": [
        "!spm_train --input='train.txt' --model_prefix=spm \\\n",
        "      --vocab_size=32000 --character_coverage=1.0 --model_type=bpe"
      ],
      "metadata": {
        "id": "KazRiyo3roMH"
      },
      "execution_count": null,
      "outputs": []
    },
    {
      "cell_type": "code",
      "source": [
        "!pip install OpenNMT-py"
      ],
      "metadata": {
        "id": "QIi2Onm6_0zh"
      },
      "execution_count": null,
      "outputs": []
    },
    {
      "cell_type": "code",
      "source": [
        "%cd ..\n",
        "!onmt_build_vocab -config data/transformer.yaml -n_sample=-1"
      ],
      "metadata": {
        "id": "z6n9NJqAAKZ8"
      },
      "execution_count": null,
      "outputs": []
    },
    {
      "cell_type": "code",
      "source": [
        "!onmt_train -config data/transformer.yaml"
      ],
      "metadata": {
        "id": "ELicZIgb_0mP"
      },
      "execution_count": null,
      "outputs": []
    }
  ]
}