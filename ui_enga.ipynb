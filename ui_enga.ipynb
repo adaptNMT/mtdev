{
  "cells": [
    {
      "cell_type": "markdown",
      "metadata": {
        "id": "pWfFV4KPlr-6"
      },
      "source": [
        "## Create models for real time inference\n",
        "\n"
      ]
    },
    {
      "cell_type": "code",
      "execution_count": null,
      "metadata": {
        "id": "-Fl3iNDtqRXb"
      },
      "outputs": [],
      "source": [
        "from google.colab import drive\n",
        "drive.mount('/content/drive')\n",
        "%cd /content/drive/MyDrive\n",
        "%mkdir infer_mt\n",
        "%cd infer_mt"
      ]
    },
    {
      "cell_type": "code",
      "execution_count": null,
      "metadata": {
        "id": "FbAf8PTWW9Zp"
      },
      "outputs": [],
      "source": [
        "!pip install -q gdown\n",
        "import gdown\n",
        "# must modify id for large file\n",
        "id = \"10i7HAA9UvWPDmi4iTT04E1rb1y4BmXIX&export=download&confirm=t\"\n",
        "output=\"model.bin\"\n",
        "gdown.download(id=id, output=output, quiet=False)"
      ]
    },
    {
      "cell_type": "code",
      "execution_count": null,
      "metadata": {
        "id": "3UQXlWIpa8jc"
      },
      "outputs": [],
      "source": [
        "!pip install -q ctranslate2 OpenNMT-py==2.2.0 sentencepiece"
      ]
    },
    {
      "cell_type": "code",
      "execution_count": null,
      "metadata": {
        "id": "dU0d1Q2vQx5C"
      },
      "outputs": [],
      "source": [
        "# Try the following\n",
        "!pip install -q ctranslate2 OpenNMT-py sentencepiece\n",
        "!pip install -q gradio transformers torch"
      ]
    },
    {
      "cell_type": "code",
      "execution_count": null,
      "metadata": {
        "id": "98aoGQ2KBCUh"
      },
      "outputs": [],
      "source": [
        "import gradio as gr\n",
        "import ctranslate2\n",
        "import sentencepiece as spm"
      ]
    },
    {
      "cell_type": "code",
      "execution_count": null,
      "metadata": {
        "id": "V1uSqXq-SIBY"
      },
      "outputs": [],
      "source": [
        "build_directory=!pwd\n",
        "input_model=\"model.bin\"\n",
        "mtmodel=\"enga\""
      ]
    },
    {
      "cell_type": "code",
      "execution_count": null,
      "metadata": {
        "id": "5H-jQIysSk8s"
      },
      "outputs": [],
      "source": [
        "!ct2-opennmt-py-converter --model_path $input_model --output_dir $mtmodel"
      ]
    },
    {
      "cell_type": "markdown",
      "metadata": {
        "id": "9CVIsS5eSrUV"
      },
      "source": [
        "## Launch Gradio and run translation interface"
      ]
    },
    {
      "cell_type": "code",
      "execution_count": null,
      "metadata": {
        "id": "yaRUq_gABCRb"
      },
      "outputs": [],
      "source": [
        "LANGS = [\"eng_Latn\", \"gle_Latn\"]\n",
        "MODEL_LIST = [\"enga\"]\n",
        "\n",
        "def translate(text, src_lang, tgt_lang, cmodel):\n",
        "    \"\"\" Translate the text from source lang to target lang \"\"\"\n",
        "    translator = ctranslate2.Translator(str(cmodel),device=\"cpu\")\n",
        "\n",
        "    sp = spm.SentencePieceProcessor(str(cmodel)+\"/spm.model\")\n",
        "    input_tokens = sp.encode(text, out_type=str)\n",
        "    results = translator.translate_batch([input_tokens])\n",
        "    output_tokens = results[0].hypotheses[0]\n",
        "    result = sp.decode(output_tokens)\n",
        "\n",
        "    return result"
      ]
    },
    {
      "cell_type": "code",
      "execution_count": null,
      "metadata": {
        "id": "IBbsIBd_BCHA"
      },
      "outputs": [],
      "source": [
        "demo = gr.Interface(\n",
        "    fn=translate,\n",
        "\n",
        "     inputs=[\n",
        "        gr.components.Textbox(label=\"Text\"),\n",
        "        gr.components.Dropdown(label=\"Source Language\", choices=LANGS),\n",
        "        gr.components.Dropdown(label=\"Target Language\", choices=LANGS),\n",
        "        gr.components.Dropdown(label=\"Choose Model\", choices=MODEL_LIST),\n",
        "    ],\n",
        "\n",
        "    outputs=[\"text\"],\n",
        "    examples=[[\"I would love to go to the beach today\", \"eng_Latn\", \"gle_Latn\"],\n",
        "              [\"Tomorrow, I will have lunch in the park\", \"eng_Latn\", \"gle_Latn\"]],\n",
        "    cache_examples=False,\n",
        "    title=\"Translation Automation Demo\",\n",
        "    description=\"To record any interesting outputs in flagged/log.csv, just hit the Flag button\"\n",
        ")"
      ]
    },
    {
      "cell_type": "code",
      "execution_count": null,
      "metadata": {
        "colab": {
          "background_save": true
        },
        "id": "z6n9NJqAAKZ8"
      },
      "outputs": [],
      "source": [
        "demo.launch(debug=True)"
      ]
    }
  ],
  "metadata": {
    "colab": {
      "provenance": []
    },
    "kernelspec": {
      "display_name": "Python 3",
      "name": "python3"
    },
    "language_info": {
      "name": "python"
    }
  },
  "nbformat": 4,
  "nbformat_minor": 0
}