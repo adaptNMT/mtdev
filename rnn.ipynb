{
  "nbformat": 4,
  "nbformat_minor": 0,
  "metadata": {
    "colab": {
      "provenance": [],
      "gpuType": "T4"
    },
    "kernelspec": {
      "name": "python3",
      "display_name": "Python 3"
    },
    "language_info": {
      "name": "python"
    },
    "accelerator": "GPU"
  },
  "cells": [
    {
      "cell_type": "code",
      "execution_count": null,
      "metadata": {
        "id": "-Fl3iNDtqRXb"
      },
      "outputs": [],
      "source": [
        "# Connect your Google Drive so that you download config files and store models\n",
        "# Change to your home directory on Google Drive\n",
        "from google.colab import drive\n",
        "drive.mount('/content/drive')\n",
        "%cd /content/drive/MyDrive"
      ]
    },
    {
      "cell_type": "code",
      "source": [
        "# Download sample training, test, eval & config files needed for training model\n",
        "# A sample model is also downloaded for those wishing to skip the training step\n",
        "!wget https://github.com/adaptNMT/mtdev/raw/main/rnn.zip"
      ],
      "metadata": {
        "id": "6MaU4atCIoFz"
      },
      "execution_count": null,
      "outputs": []
    },
    {
      "cell_type": "code",
      "source": [
        "# Unpack the files and create the directory structure\n",
        "!unzip -o rnn.zip"
      ],
      "metadata": {
        "id": "dU0d1Q2vQx5C"
      },
      "execution_count": null,
      "outputs": []
    },
    {
      "cell_type": "code",
      "source": [
        "# Display GPU details provided by Google\n",
        "gpu_info = !nvidia-smi\n",
        "print(gpu_info)\n",
        "\n",
        "# Check if version of python >= 3.8\n",
        "!python --version\n",
        "\n",
        "# Check if Pytorch > 2.0 is installed\n",
        "!apt list | grep torch"
      ],
      "metadata": {
        "id": "7xCDZlAEwNWX"
      },
      "execution_count": null,
      "outputs": []
    },
    {
      "cell_type": "code",
      "source": [
        "# Install the chosen MT engine required for translation (OpenNMT used here)\n",
        "!pip install OpenNMT-py"
      ],
      "metadata": {
        "id": "QIi2Onm6_0zh"
      },
      "execution_count": null,
      "outputs": []
    },
    {
      "cell_type": "code",
      "source": [
        "# Build the vocabulary using the hyperparameters set in rnn.yaml\n",
        "%cd rnn/\n",
        "!onmt_build_vocab -config data/rnn.yaml -n_sample=-1"
      ],
      "metadata": {
        "id": "z6n9NJqAAKZ8"
      },
      "execution_count": null,
      "outputs": []
    },
    {
      "cell_type": "markdown",
      "source": [
        "**TRAIN MODEL**"
      ],
      "metadata": {
        "id": "x1LFAZxZWW61"
      }
    },
    {
      "cell_type": "code",
      "source": [
        "# The model is trained using the hyperparameters stored in rnn.yaml\n",
        "!onmt_train -config data/rnn.yaml"
      ],
      "metadata": {
        "id": "ELicZIgb_0mP"
      },
      "execution_count": null,
      "outputs": []
    },
    {
      "cell_type": "markdown",
      "source": [
        "**TRANSLATION**"
      ],
      "metadata": {
        "id": "VQP468PkWh77"
      }
    },
    {
      "cell_type": "code",
      "execution_count": null,
      "metadata": {
        "id": "FbAf8PTWW9Zp"
      },
      "outputs": [],
      "source": [
        "# OPTIONAL CELL:\n",
        "# Download a sample model if you haven't completed the previous training step\n",
        "!pip install -q gdown\n",
        "import gdown\n",
        "id = \"10i7HAA9UvWPDmi4iTT04E1rb1y4BmXIX&export=download&confirm=t\"\n",
        "output=\"models/model_step_10000.pt\"\n",
        "gdown.download(id=id, output=output, quiet=False)"
      ]
    },
    {
      "cell_type": "code",
      "source": [
        "# Using the OpenNMT command, translate the English Test file into Irish\n",
        "!onmt_translate  -model models/model_step_10000.pt \\\n",
        "\t\t  -src data/src-test.txt \\\n",
        "\t\t  -output data/pred.txt -verbose"
      ],
      "metadata": {
        "id": "QCzuJ44AWEry"
      },
      "execution_count": null,
      "outputs": []
    },
    {
      "cell_type": "markdown",
      "source": [
        "**EVALUATION**"
      ],
      "metadata": {
        "id": "0HSfLA3XWkKX"
      }
    },
    {
      "cell_type": "code",
      "source": [
        "# Install the library which will be used for carrying out the evaluation\n",
        "# The translations generated in pred.text are compared with the reference\n",
        "# translations provided in tgt-test.txt\n",
        "!pip3 install sacrebleu[ja]\n",
        "%cd data\n",
        "!echo \"++ using sacrebleu ++\" | tee -a experiment_log.txt\n",
        "!sacrebleu tgt-test.txt < pred_rnn.txt -m bleu --force | tee -a experiment_log.txt"
      ],
      "metadata": {
        "id": "0LO-TFYjWRaX"
      },
      "execution_count": null,
      "outputs": []
    }
  ]
}
