{
  "cells": [
    {
      "cell_type": "markdown",
      "metadata": {
        "id": "pWfFV4KPlr-6"
      },
      "source": [
        "## Create models for real time inference\n",
        "\n"
      ]
    },
    {
      "cell_type": "code",
      "execution_count": null,
      "metadata": {
        "id": "-Fl3iNDtqRXb"
      },
      "outputs": [],
      "source": [
        "from google.colab import drive\n",
        "drive.mount('/content/drive')\n",
        "%cd /content/drive/MyDrive\n",
        "%mkdir infer_mt\n",
        "%cd infer_mt"
      ]
    },
    {
      "cell_type": "code",
      "execution_count": null,
      "metadata": {
        "id": "dU0d1Q2vQx5C"
      },
      "outputs": [],
      "source": [
        "!pip install -q ctranslate2 OpenNMT-py sentencepiece\n",
        "!pip install -q gradio transformers torch"
      ]
    },
    {
      "cell_type": "code",
      "execution_count": 3,
      "metadata": {
        "id": "V1uSqXq-SIBY"
      },
      "outputs": [],
      "source": [
        "build_directory=!pwd\n",
        "input_model=\"../transformer/models/model_step_10000.pt\"\n",
        "mtmodel=\"enga\""
      ]
    },
    {
      "cell_type": "code",
      "execution_count": 4,
      "metadata": {
        "id": "98aoGQ2KBCUh"
      },
      "outputs": [],
      "source": [
        "import gradio as gr\n",
        "import ctranslate2\n",
        "import sentencepiece as spm"
      ]
    },
    {
      "cell_type": "code",
      "execution_count": 5,
      "metadata": {
        "id": "5H-jQIysSk8s"
      },
      "outputs": [],
      "source": [
        "# Convert OpenNMT model using CTranslate2 and copy SentencePiece model\n",
        "!ct2-opennmt-py-converter --model_path $input_model --output_dir $mtmodel\n",
        "!cp ../transformer/data/spm.model ./enga"
      ]
    },
    {
      "cell_type": "markdown",
      "metadata": {
        "id": "9CVIsS5eSrUV"
      },
      "source": [
        "## Launch Gradio and run translation interface"
      ]
    },
    {
      "cell_type": "code",
      "execution_count": 6,
      "metadata": {
        "id": "yaRUq_gABCRb"
      },
      "outputs": [],
      "source": [
        "LANGS = [\"eng_Latn\", \"gle_Latn\"]\n",
        "MODEL_LIST = [\"enga\"]\n",
        "\n",
        "def translate(text, src_lang, tgt_lang, cmodel):\n",
        "    \"\"\" Translate the text from source lang to target lang \"\"\"\n",
        "    translator = ctranslate2.Translator(str(cmodel),device=\"cpu\")\n",
        "\n",
        "    sp = spm.SentencePieceProcessor(str(cmodel)+\"/spm.model\")\n",
        "    input_tokens = sp.encode(text, out_type=str)\n",
        "    results = translator.translate_batch([input_tokens])\n",
        "    output_tokens = results[0].hypotheses[0]\n",
        "    result = sp.decode(output_tokens)\n",
        "\n",
        "    return result"
      ]
    },
    {
      "cell_type": "code",
      "execution_count": 7,
      "metadata": {
        "id": "IBbsIBd_BCHA"
      },
      "outputs": [],
      "source": [
        "demo = gr.Interface(\n",
        "    fn=translate,\n",
        "\n",
        "     inputs=[\n",
        "        gr.components.Textbox(label=\"Text\"),\n",
        "        gr.components.Dropdown(label=\"Source Language\", choices=LANGS),\n",
        "        gr.components.Dropdown(label=\"Target Language\", choices=LANGS),\n",
        "        gr.components.Dropdown(label=\"Choose Model\", choices=MODEL_LIST),\n",
        "    ],\n",
        "\n",
        "    outputs=[\"text\"],\n",
        "    examples=[[\"I am sick today\", \"eng_Latn\", \"gle_Latn\"]],\n",
        "    cache_examples=False,\n",
        "    title=\"Translation Automation Demo\",\n",
        "    description=\"To record any interesting outputs in flagged/log.csv, just hit the Flag button\"\n",
        ")"
      ]
    },
    {
      "cell_type": "code",
      "execution_count": 8,
      "metadata": {
        "colab": {
          "base_uri": "https://localhost:8080/"
        },
        "id": "z6n9NJqAAKZ8",
        "outputId": "cb4b115c-179a-43cb-d7dd-a7b3c870d725"
      },
      "outputs": [
        {
          "output_type": "execute_result",
          "data": {
            "text/plain": []
          },
          "metadata": {},
          "execution_count": 8
        }
      ],
      "source": [
        "demo.launch(debug=True)"
      ]
    }
  ],
  "metadata": {
    "colab": {
      "provenance": []
    },
    "kernelspec": {
      "display_name": "Python 3",
      "name": "python3"
    },
    "language_info": {
      "name": "python"
    }
  },
  "nbformat": 4,
  "nbformat_minor": 0
}